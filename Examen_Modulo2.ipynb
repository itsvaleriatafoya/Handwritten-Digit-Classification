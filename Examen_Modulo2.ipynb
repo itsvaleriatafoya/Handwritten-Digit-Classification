{
  "nbformat": 4,
  "nbformat_minor": 0,
  "metadata": {
    "kernelspec": {
      "display_name": "Python 3",
      "language": "python",
      "name": "python3"
    },
    "language_info": {
      "codemirror_mode": {
        "name": "ipython",
        "version": 3
      },
      "file_extension": ".py",
      "mimetype": "text/x-python",
      "name": "python",
      "nbconvert_exporter": "python",
      "pygments_lexer": "ipython3",
      "version": "3.8.5"
    },
    "colab": {
      "provenance": []
    }
  },
  "cells": [
    {
      "cell_type": "markdown",
      "metadata": {
        "id": "dOGPNu9AyeTF"
      },
      "source": [
        "# Examen del Modulo"
      ]
    },
    {
      "cell_type": "markdown",
      "metadata": {
        "id": "duH2xtxXyeTI"
      },
      "source": [
        "En este documento encontrarás las instrucciones para hacer un ejercicio similar al que vimos juntos en el Módulo 2. Recuerda que puedes agregar más celdas haciendo click en el boton de \"+\" que se encuentra en la barra de menús"
      ]
    },
    {
      "cell_type": "markdown",
      "metadata": {
        "id": "bAzgi33YyeTJ"
      },
      "source": [
        "Encontrarás las instrucciones para cada actividad y algunas celdas vacías para que escribas las respuestas:"
      ]
    },
    {
      "cell_type": "markdown",
      "metadata": {
        "id": "TYnMZ2y0yeTJ"
      },
      "source": [
        "### Variables "
      ]
    },
    {
      "cell_type": "markdown",
      "metadata": {
        "id": "lIfYaKejyeTK"
      },
      "source": [
        "Crea una variable con el nombre variable_uno con un valor de 150"
      ]
    },
    {
      "cell_type": "code",
      "metadata": {
        "id": "_u-rYNqcyeTL"
      },
      "source": [],
      "execution_count": null,
      "outputs": []
    },
    {
      "cell_type": "markdown",
      "metadata": {
        "id": "ifh9QQK8yeTL"
      },
      "source": [
        "Crea una variable con el nombre variable_dos con un valor de 20"
      ]
    },
    {
      "cell_type": "code",
      "metadata": {
        "id": "ukpoReuuyeTN"
      },
      "source": [],
      "execution_count": null,
      "outputs": []
    },
    {
      "cell_type": "markdown",
      "metadata": {
        "id": "cVdj6fG6yeTN"
      },
      "source": [
        "Suma las variables que acabas de crear (variable_uno y variable_dos)"
      ]
    },
    {
      "cell_type": "code",
      "metadata": {
        "id": "_-0N3vvGyeTO"
      },
      "source": [],
      "execution_count": null,
      "outputs": []
    },
    {
      "cell_type": "markdown",
      "metadata": {
        "id": "BFWa9tjkyeTP"
      },
      "source": [
        "Crea una variable con el nombre primer_nombre y asignale como valor tu nombre"
      ]
    },
    {
      "cell_type": "code",
      "metadata": {
        "id": "wEtI3CsiyeTQ"
      },
      "source": [],
      "execution_count": null,
      "outputs": []
    },
    {
      "cell_type": "markdown",
      "metadata": {
        "id": "63r6slRuyeTR"
      },
      "source": [
        "Crea una variable con el nombre primer_nombre y asignale como valor tu nombre"
      ]
    },
    {
      "cell_type": "code",
      "metadata": {
        "id": "9G12XDBLyeTS"
      },
      "source": [],
      "execution_count": null,
      "outputs": []
    },
    {
      "cell_type": "markdown",
      "metadata": {
        "id": "m3k5Ag9LyeTT"
      },
      "source": [
        "Crea una variable con el nombre primer_apellido y asignale como valor tu apellido"
      ]
    },
    {
      "cell_type": "code",
      "metadata": {
        "id": "7wzJ1jQ2yeTU"
      },
      "source": [],
      "execution_count": null,
      "outputs": []
    },
    {
      "cell_type": "markdown",
      "metadata": {
        "id": "tfaytehfyeTV"
      },
      "source": [
        "### Listas "
      ]
    },
    {
      "cell_type": "markdown",
      "metadata": {
        "id": "emrJF74GyeTW"
      },
      "source": [
        "Crea una lista llamada numeros_pares y escribe dentro de esta lista todos los numeros pares del 0 al 10"
      ]
    },
    {
      "cell_type": "code",
      "metadata": {
        "id": "B10UliVgyeTX"
      },
      "source": [],
      "execution_count": null,
      "outputs": []
    },
    {
      "cell_type": "markdown",
      "metadata": {
        "id": "lxZJmX9yyeTX"
      },
      "source": [
        "Crea una lista llamada mujeres_lideres y escribe como elementos de esa lista el nombre de 3 mujeres que consideres que van a tener un papel importante en el mundo, ya sea desde la política, tecnología, economía, etc."
      ]
    },
    {
      "cell_type": "code",
      "metadata": {
        "id": "N5ql_LSCyeTY"
      },
      "source": [],
      "execution_count": null,
      "outputs": []
    },
    {
      "cell_type": "markdown",
      "metadata": {
        "id": "43RahQbXyeTZ"
      },
      "source": [
        "Imprime el nombre que se encuentra en la posición 1 de la lista mujeres_lideres"
      ]
    },
    {
      "cell_type": "code",
      "metadata": {
        "id": "rpc6ukwPyeTZ"
      },
      "source": [],
      "execution_count": null,
      "outputs": []
    },
    {
      "cell_type": "markdown",
      "metadata": {
        "id": "WbTkUSepyeTc"
      },
      "source": [
        "Imprime el nombre que se encuentra en la posición 3 de la lista mujeres_lideres"
      ]
    },
    {
      "cell_type": "code",
      "metadata": {
        "id": "FW-vT2C6yeTd"
      },
      "source": [],
      "execution_count": null,
      "outputs": []
    },
    {
      "cell_type": "markdown",
      "metadata": {
        "id": "xtQiiliTyeTe"
      },
      "source": [
        "### Diccionarios "
      ]
    },
    {
      "cell_type": "markdown",
      "metadata": {
        "id": "J-rcQkwryeTf"
      },
      "source": [
        "Crea un diccionario llamado persona y crea una llave llamada \"nombre\" con un valor de nombre y una llave llamada edad con un valor de 23."
      ]
    },
    {
      "cell_type": "code",
      "metadata": {
        "id": "gRObJIxyyeTf"
      },
      "source": [],
      "execution_count": null,
      "outputs": []
    },
    {
      "cell_type": "markdown",
      "metadata": {
        "id": "V7kYUDtFyeTg"
      },
      "source": [
        "Accede al valor de la edad del diccionario persona"
      ]
    },
    {
      "cell_type": "code",
      "metadata": {
        "id": "7MGPdfX4yeTg"
      },
      "source": [],
      "execution_count": null,
      "outputs": []
    }
  ]
}